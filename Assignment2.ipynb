{
 "cells": [
  {
   "cell_type": "markdown",
   "id": "18f453cc-8b6c-410b-a483-c1a597d1c331",
   "metadata": {},
   "source": [
    "Q1 -> Write a progam to accept percentage from the user and display the grade according the following criteria:\n",
    "\n",
    "Ans -> marks = int(input(\"Enter yhe marks you have got in exams\"))\n",
    "\n",
    "if marks > 90:\n",
    "    print(\"you have got A\")\n",
    "elif marks > 80 and marks <= 90:\n",
    "    print(\"you have got B\")\n",
    "elif marks >= 60 and marks <= 80:\n",
    "    print(\"you have got C\")\n",
    "else:\n",
    "    print(\"you have got D , work hard\")"
   ]
  },
  {
   "cell_type": "markdown",
   "id": "70796e3f-989a-45e1-bbc5-06cc4055c450",
   "metadata": {},
   "source": [
    "Q2 -> write a program to accept the cost price of a bike and display the road to be paid according to the following criteria?\n",
    "\n",
    "Ans -> price = int(input(\"Enter the bike cost price\"))\n",
    "tax_ev = price / 100\n",
    "if price > 100000:\n",
    "    print(\"According to the policy 15% tax will be include in it \" , tax_ev * 15 )\n",
    "elif price > 50000 and price <= 100000:\n",
    "    print(\"According to the policy 10% tax will be include in it \" , tax_ev * 10 )\n",
    "elif price <= 50000:\n",
    "    print(\"According to the policy 5% tax will be include in it \" , tax_ev * 5 )\n",
    "    "
   ]
  },
  {
   "cell_type": "markdown",
   "id": "1d809be6-dc15-4d45-8a6f-5ce14ede3bdd",
   "metadata": {},
   "source": [
    "Q3 -> Accept any city from user and display monuments of that city\n",
    "\n",
    "Ans -> city = input(\"Enter your city name \")\n",
    "\n",
    "if city == \"Delhi\":\n",
    "    print(\"In delhi we have Red Fort\")\n",
    "elif city == \"Agra\":\n",
    "    print(\"We have Taj Mahal in Agra\")\n",
    "elif city == \"Jaipur\":\n",
    "    print(\"In Jaipur We have Jai Mahal\")\n",
    "elif city == \"Mumbai\":\n",
    "    print(\"In Mumbai we have GateWay of India\")\n",
    "else:\n",
    "    print(\"please enter proper city name\") "
   ]
  },
  {
   "cell_type": "markdown",
   "id": "c895a6f8-c850-45d7-844f-0dc296138c02",
   "metadata": {},
   "source": [
    "Q4 -> Check how many times a given number can be divided by 3 before it is less the or equal to 10.\n",
    "\n",
    "Ans -> n = int(input(\" which number \"))\n",
    "count = 0\n",
    "while True:\n",
    "    if n % 3 == 0:\n",
    "        n = n / 3\n",
    "        count = count + 1\n",
    "    elif n % 3 != 0:\n",
    "        n = n -1\n",
    "    if n <= 10:\n",
    "        break\n",
    "print(count)"
   ]
  },
  {
   "cell_type": "markdown",
   "id": "f9d6bf7c-11d5-4c3b-9b93-956593694253",
   "metadata": {},
   "source": [
    "Q5 -> Why and when to use while loop in python give a detailed discription with example\n",
    "\n",
    "Ans -> A while loop repeats a block of code an unknown number of times until a condition is no longer met. for loops, on the other hand, repeat a block of code a fixed number of times.\n",
    "A while loop repeats a block of code an unknown number of times until a condition is no longer met. for loops, on the other hand, repeat a block of code a fixed number of times.\n",
    "A Boolean condition is a condition that evaluates to either True or False.\n",
    "A while loop will always first check the condition before running. If the condition evaluates to True, then the loop will run the code within the loop's body and continue to run the code while the condition remains True."
   ]
  },
  {
   "cell_type": "markdown",
   "id": "9d8c7ca2-165c-4ad7-bccd-6b27fdeb7b91",
   "metadata": {},
   "source": [
    "Q6 -> print pattern using while loop?\n",
    "\n",
    "Ans-> \n",
    "<!-- 1) pattern -->\n",
    "n = int(input('Enter number of rows : '))\n",
    " \n",
    "i = 1\n",
    "while i <= n :\n",
    "    j = 1\n",
    "    while j <= i:\n",
    "        print(\"*\", end = \" \")\n",
    "        j += 1\n",
    "    print()\n",
    "    i += 1\n",
    "\n",
    "<!-- 2) pattern -->\n",
    "n = int(input('Enter number of rows : '))\n",
    " \n",
    "i = 1\n",
    "while i <= n :\n",
    "    j = n\n",
    "    while j >= i:\n",
    "        print(\"*\", end = \" \")\n",
    "        j -= 1\n",
    "    print()\n",
    "    i += 1\n",
    "\n"
   ]
  },
  {
   "cell_type": "markdown",
   "id": "42d96378-37d6-443a-88d7-e7f0da568022",
   "metadata": {},
   "source": [
    "Q6 -> print pattern using while loop?\n",
    "\n",
    "Ans-> \n",
    "<!-- 1) pattern -->\n",
    "n = int(input('Enter number of rows : '))\n",
    " \n",
    "i = 1\n",
    "while i <= n :\n",
    "    j = 1\n",
    "    while j <= i:\n",
    "        print(\"*\", end = \" \")\n",
    "        j += 1\n",
    "    print()\n",
    "    i += 1\n",
    "\n",
    "<!-- 2) pattern -->\n",
    "n = int(input('Enter number of rows : '))\n",
    " \n",
    "i = 1\n",
    "while i <= n :\n",
    "    j = n\n",
    "    while j >= i:\n",
    "        print(\"*\", end = \" \")\n",
    "        j -= 1\n",
    "    print()\n",
    "    i += 1\n",
    "\n",
    "<!-- 3) pattern -->\n",
    "\n",
    "n = int(input('Enter number of rows : '))\n",
    " \n",
    "k = 1\n",
    "i = 1\n",
    "while i <= n :\n",
    "    j = 1\n",
    "    while j <= i:\n",
    "        print(\"{:3d}\".format(k), end = \" \")\n",
    "        j += 1\n",
    "        k += 1\n",
    "    print()\n",
    "    i += 1"
   ]
  },
  {
   "cell_type": "markdown",
   "id": "07d04de8-3f6b-4756-9e4e-0a3a9cfb04ff",
   "metadata": {},
   "source": [
    "Q7 -> Reverse a while loop to display from 10 to 1\n",
    "\n",
    "Ans -> l = [1,2,3,4,5,6,7,8,9,10]\n",
    "    def rev_num(lst):\n",
    "    count = len(lst) - 1\n",
    "    rev_num2 = []\n",
    "    while count >= 0:\n",
    "        rev_num2.append(lst[count])\n",
    "        count = count -1\n",
    "    return rev_num2\n",
    "    \n",
    "rev_num(l)"
   ]
  },
  {
   "cell_type": "markdown",
   "id": "c4a4672b-b46e-45fb-852e-6c2344072da0",
   "metadata": {},
   "source": [
    "Q8 Same as  Que 7"
   ]
  }
 ],
 "metadata": {
  "kernelspec": {
   "display_name": "Python 3 (ipykernel)",
   "language": "python",
   "name": "python3"
  },
  "language_info": {
   "codemirror_mode": {
    "name": "ipython",
    "version": 3
   },
   "file_extension": ".py",
   "mimetype": "text/x-python",
   "name": "python",
   "nbconvert_exporter": "python",
   "pygments_lexer": "ipython3",
   "version": "3.10.8"
  }
 },
 "nbformat": 4,
 "nbformat_minor": 5
}
