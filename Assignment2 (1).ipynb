{
 "cells": [
  {
   "cell_type": "code",
   "execution_count": null,
   "id": "3e1d7369-bacd-429e-9ebe-16b1105f191a",
   "metadata": {},
   "outputs": [],
   "source": [
    "Q1 -> Write a progam to accept percentage from the user and display the grade according the following criteria:\n",
    "\n",
    "Ans -> marks = int(input(\"Enter yhe marks you have got in exams\"))\n",
    "\n",
    "if marks > 90:\n",
    "    print(\"you have got A\")\n",
    "elif marks > 80 and marks <= 90:\n",
    "    print(\"you have got B\")\n",
    "elif marks >= 60 and marks <= 80:\n",
    "    print(\"you have got C\")\n",
    "else:\n",
    "    print(\"you have got D , work hard\")"
   ]
  },
  {
   "cell_type": "code",
   "execution_count": null,
   "id": "6a2a8ec3-8903-4b1c-a190-dac3e99184ac",
   "metadata": {},
   "outputs": [],
   "source": [
    "Q2 -> write a program to accept the cost price of a bike and display the road to be paid according to the following criteria?\n",
    "\n",
    "Ans -> price = int(input(\"Enter the bike cost price\"))\n",
    "tax_ev = price / 100\n",
    "if price > 100000:\n",
    "    print(\"According to the policy 15% tax will be include in it \" , tax_ev * 15 )\n",
    "elif price > 50000 and price <= 100000:\n",
    "    print(\"According to the policy 10% tax will be include in it \" , tax_ev * 10 )\n",
    "elif price <= 50000:\n",
    "    print(\"According to the policy 5% tax will be include in it \" , tax_ev * 5 )\n",
    "    "
   ]
  },
  {
   "cell_type": "code",
   "execution_count": null,
   "id": "0e7cbe1d-0ec9-43d7-9f50-d15aace0e2a1",
   "metadata": {},
   "outputs": [],
   "source": [
    "Q3 -> Accept any city from user and display monuments of that city\n",
    "\n",
    "Ans -> city = input(\"Enter your city name \")\n",
    "\n",
    "if city == \"Delhi\":\n",
    "    print(\"In delhi we have Red Fort\")\n",
    "elif city == \"Agra\":\n",
    "    print(\"We have Taj Mahal in Agra\")\n",
    "elif city == \"Jaipur\":\n",
    "    print(\"In Jaipur We have Jai Mahal\")\n",
    "elif city == \"Mumbai\":\n",
    "    print(\"In Mumbai we have GateWay of India\")\n",
    "else:\n",
    "    print(\"please enter proper city name\") "
   ]
  },
  {
   "cell_type": "code",
   "execution_count": null,
   "id": "0ac1c85a-adf2-4adc-8e16-6fcdfe6b422a",
   "metadata": {},
   "outputs": [],
   "source": [
    "Q4 -> Check how many times a given number can be divided by 3 before it is less the or equal to 10.\n",
    "\n",
    "Ans -> n = int(input(\" which number \"))\n",
    "count = 0\n",
    "while True:\n",
    "    if n % 3 == 0:\n",
    "        n = n / 3\n",
    "        count = count + 1\n",
    "    elif n % 3 != 0:\n",
    "        n = n -1\n",
    "    if n <= 10:\n",
    "        break\n",
    "print(count)"
   ]
  },
  {
   "cell_type": "markdown",
   "id": "f9d6bf7c-11d5-4c3b-9b93-956593694253",
   "metadata": {},
   "source": [
    "Q5 -> Why and when to use while loop in python give a detailed discription with example\n",
    "\n",
    "Ans -> A while loop repeats a block of code an unknown number of times until a condition is no longer met. for loops, on the other hand, repeat a block of code a fixed number of times.\n",
    "A while loop repeats a block of code an unknown number of times until a condition is no longer met. for loops, on the other hand, repeat a block of code a fixed number of times.\n",
    "A Boolean condition is a condition that evaluates to either True or False.\n",
    "A while loop will always first check the condition before running. If the condition evaluates to True, then the loop will run the code within the loop's body and continue to run the code while the condition remains True."
   ]
  },
  {
   "cell_type": "code",
   "execution_count": null,
   "id": "9cb95bc4-c343-4baf-ad76-a745a593405a",
   "metadata": {},
   "outputs": [],
   "source": [
    "Q6 -> print pattern using while loop?\n",
    "\n",
    "Ans-> \n",
    "<!-- 1) pattern -->\n",
    "n = int(input('Enter number of rows : '))\n",
    " \n",
    "i = 1\n",
    "while i <= n :\n",
    "    j = 1\n",
    "    while j <= i:\n",
    "        print(\"*\", end = \" \")\n",
    "        j += 1\n",
    "    print()\n",
    "    i += 1\n",
    "\n",
    "<!-- 2) pattern -->\n",
    "n = int(input('Enter number of rows : '))\n",
    " \n",
    "i = 1\n",
    "while i <= n :\n",
    "    j = n\n",
    "    while j >= i:\n",
    "        print(\"*\", end = \" \")\n",
    "        j -= 1\n",
    "    print()\n",
    "    i += 1\n",
    "\n"
   ]
  },
  {
   "cell_type": "code",
   "execution_count": null,
   "id": "1d8bf9d2-6f4e-4ffb-acc1-80a358013941",
   "metadata": {},
   "outputs": [],
   "source": [
    "Q6 -> print pattern using while loop?\n",
    "\n",
    "Ans-> \n",
    "<!-- 1) pattern -->\n",
    "n = int(input('Enter number of rows : '))\n",
    " \n",
    "i = 1\n",
    "while i <= n :\n",
    "    j = 1\n",
    "    while j <= i:\n",
    "        print(\"*\", end = \" \")\n",
    "        j += 1\n",
    "    print()\n",
    "    i += 1\n",
    "\n",
    "<!-- 2) pattern -->\n",
    "n = int(input('Enter number of rows : '))\n",
    " \n",
    "i = 1\n",
    "while i <= n :\n",
    "    j = n\n",
    "    while j >= i:\n",
    "        print(\"*\", end = \" \")\n",
    "        j -= 1\n",
    "    print()\n",
    "    i += 1\n",
    "\n",
    "<!-- 3) pattern -->\n",
    "\n",
    "n = int(input('Enter number of rows : '))\n",
    " \n",
    "k = 1\n",
    "i = 1\n",
    "while i <= n :\n",
    "    j = 1\n",
    "    while j <= i:\n",
    "        print(\"{:3d}\".format(k), end = \" \")\n",
    "        j += 1\n",
    "        k += 1\n",
    "    print()\n",
    "    i += 1"
   ]
  },
  {
   "cell_type": "code",
   "execution_count": null,
   "id": "5dd73c91-2f98-4d11-ab20-f3daf01a18db",
   "metadata": {},
   "outputs": [],
   "source": [
    "Q7 -> Reverse a while loop to display from 10 to 1\n",
    "\n",
    "Ans -> l = [1,2,3,4,5,6,7,8,9,10]\n",
    "    def rev_num(lst):\n",
    "    count = len(lst) - 1\n",
    "    rev_num2 = []\n",
    "    while count >= 0:\n",
    "        rev_num2.append(lst[count])\n",
    "        count = count -1\n",
    "    return rev_num2\n",
    "    \n",
    "rev_num(l)"
   ]
  },
  {
   "cell_type": "markdown",
   "id": "c4a4672b-b46e-45fb-852e-6c2344072da0",
   "metadata": {},
   "source": [
    "Q8 Same as  Que 7"
   ]
  }
 ],
 "metadata": {
  "kernelspec": {
   "display_name": "Python 3 (ipykernel)",
   "language": "python",
   "name": "python3"
  },
  "language_info": {
   "codemirror_mode": {
    "name": "ipython",
    "version": 3
   },
   "file_extension": ".py",
   "mimetype": "text/x-python",
   "name": "python",
   "nbconvert_exporter": "python",
   "pygments_lexer": "ipython3",
   "version": "3.10.8"
  }
 },
 "nbformat": 4,
 "nbformat_minor": 5
}
